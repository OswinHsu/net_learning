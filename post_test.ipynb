{
 "cells": [
  {
   "cell_type": "code",
   "execution_count": null,
   "metadata": {},
   "outputs": [],
   "source": [
    "import pandas as pd\n",
    "import numpy as np\n",
    "import matplotlib.pyplot as plt\n",
    "\n",
    "pr = pd.read_csv('Excel Data/salary.csv')\n",
    "df = pd.DataFrame(pr)\n",
    "grouped = df.groupby('Sex')['Income'].sum()\n",
    "tol = grouped.sum()\n",
    "\n",
    "#平均值\n",
    "mean = np.mean(df['Income'])\n",
    "\n",
    "#標準差\n",
    "std = np.std(df['Income'])\n",
    "\n",
    "#中位數\n",
    "med = np.median(df['Income'])\n",
    "\n",
    "\n",
    "print(tol)\n",
    "print(mean)\n",
    "print(std)\n",
    "print(med)\n",
    "\n",
    "# 使用 Matplotlib 绘制直方图\n",
    "plt.hist(df['Income'], bins=10, color='skyblue', edgecolor='black', alpha=0.7)\n",
    "# plt.title('薪資分布值方圖')\n",
    "plt.xlabel('Salary')\n",
    "plt.ylabel('Frequency')\n",
    "plt.grid(True)\n",
    "plt.show()"
   ]
  }
 ],
 "metadata": {
  "language_info": {
   "name": "python"
  }
 },
 "nbformat": 4,
 "nbformat_minor": 2
}
